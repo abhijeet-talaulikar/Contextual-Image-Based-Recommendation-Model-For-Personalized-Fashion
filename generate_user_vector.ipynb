{
  "metadata": {
    "kernelspec": {
      "language": "python",
      "display_name": "Python 3",
      "name": "python3"
    },
    "language_info": {
      "name": "python",
      "version": "3.7.12",
      "mimetype": "text/x-python",
      "codemirror_mode": {
        "name": "ipython",
        "version": 3
      },
      "pygments_lexer": "ipython3",
      "nbconvert_exporter": "python",
      "file_extension": ".py"
    },
    "colab": {
      "name": "mv-generateuservec.ipynb",
      "provenance": [],
      "machine_shape": "hm",
      "collapsed_sections": []
    },
    "accelerator": "GPU"
  },
  "nbformat_minor": 0,
  "nbformat": 4,
  "cells": [
    {
      "cell_type": "code",
      "source": [
        "!pip install timm\n",
        "!pip install torchsummary"
      ],
      "metadata": {
        "_uuid": "8f2839f25d086af736a60e9eeb907d3b93b6e0e5",
        "_cell_guid": "b1076dfc-b9ad-4769-8c92-a6c4dae69d19",
        "execution": {
          "iopub.status.busy": "2022-04-19T02:00:47.421848Z",
          "iopub.execute_input": "2022-04-19T02:00:47.422362Z",
          "iopub.status.idle": "2022-04-19T02:01:09.050814Z",
          "shell.execute_reply.started": "2022-04-19T02:00:47.422328Z",
          "shell.execute_reply": "2022-04-19T02:01:09.049773Z"
        },
        "trusted": true,
        "id": "z4gE09WYo26r"
      },
      "execution_count": null,
      "outputs": []
    },
    {
      "cell_type": "code",
      "source": [
        "import numpy as np\n",
        "import pandas as pd\n",
        "\n",
        "import torch\n",
        "import os\n",
        "from tqdm import tqdm\n",
        "\n",
        "from sklearn import preprocessing\n",
        "from sklearn.model_selection import train_test_split\n",
        "from sklearn.metrics import f1_score,accuracy_score,recall_score, precision_score,classification_report\n",
        "from sklearn.preprocessing import MinMaxScaler\n",
        "\n",
        "import random\n",
        "import torch.nn as nn\n",
        "import torch.nn.functional as F\n",
        "from torch.utils.data import Dataset, DataLoader\n",
        "from torchsummary import summary\n",
        "\n",
        "import pickle\n",
        "\n",
        "import warnings\n",
        "warnings.filterwarnings(\"ignore\")"
      ],
      "metadata": {
        "execution": {
          "iopub.status.busy": "2022-04-19T02:01:09.054606Z",
          "iopub.execute_input": "2022-04-19T02:01:09.054825Z",
          "iopub.status.idle": "2022-04-19T02:01:09.946609Z",
          "shell.execute_reply.started": "2022-04-19T02:01:09.054796Z",
          "shell.execute_reply": "2022-04-19T02:01:09.945708Z"
        },
        "trusted": true,
        "id": "gKSRY2oJo26t"
      },
      "execution_count": null,
      "outputs": []
    },
    {
      "cell_type": "code",
      "source": [
        "import shutil\n",
        "shutil.unpack_archive('pooled_features.zip', 'fv')"
      ],
      "metadata": {
        "id": "ujniCxgrrYkw"
      },
      "execution_count": null,
      "outputs": []
    },
    {
      "cell_type": "markdown",
      "source": [
        "## Load data"
      ],
      "metadata": {
        "id": "IXpQb2Ufo26u"
      }
    },
    {
      "cell_type": "code",
      "source": [
        "with open('custlist.pkl', 'rb') as handle:\n",
        "    cust_list = pickle.load(handle)"
      ],
      "metadata": {
        "id": "mgrKkR5MGD4e"
      },
      "execution_count": null,
      "outputs": []
    },
    {
      "cell_type": "code",
      "source": [
        "pooledfeatures = pd.read_csv('fv/pooled_features.csv', dtype={'0':str})\n",
        "pooledfeatures.head()"
      ],
      "metadata": {
        "execution": {
          "iopub.status.busy": "2022-04-19T02:01:21.904483Z",
          "iopub.execute_input": "2022-04-19T02:01:21.904797Z",
          "iopub.status.idle": "2022-04-19T02:01:50.054686Z",
          "shell.execute_reply.started": "2022-04-19T02:01:21.904770Z",
          "shell.execute_reply": "2022-04-19T02:01:50.053820Z"
        },
        "trusted": true,
        "id": "GpNdJ9yto26w"
      },
      "execution_count": null,
      "outputs": []
    },
    {
      "cell_type": "code",
      "source": [
        "scaler=MinMaxScaler()\n",
        "pooledfeatures.iloc[:,2:]=scaler.fit_transform(pooledfeatures.iloc[:,2:])"
      ],
      "metadata": {
        "execution": {
          "iopub.status.busy": "2022-04-19T02:01:50.056607Z",
          "iopub.execute_input": "2022-04-19T02:01:50.057147Z",
          "iopub.status.idle": "2022-04-19T02:02:04.614979Z",
          "shell.execute_reply.started": "2022-04-19T02:01:50.057106Z",
          "shell.execute_reply": "2022-04-19T02:02:04.614068Z"
        },
        "trusted": true,
        "id": "NuhwLU9yo26x"
      },
      "execution_count": null,
      "outputs": []
    },
    {
      "cell_type": "code",
      "source": [
        "latest3 = pd.read_csv('latest3.csv', dtype=str)\n",
        "latest3 = latest3[latest3.customer_id.isin(cust_list)].reset_index(drop=True)\n",
        "latest3.head()"
      ],
      "metadata": {
        "execution": {
          "iopub.status.busy": "2022-04-19T02:02:07.723302Z",
          "iopub.execute_input": "2022-04-19T02:02:07.726926Z",
          "iopub.status.idle": "2022-04-19T02:02:07.894545Z",
          "shell.execute_reply.started": "2022-04-19T02:02:07.726881Z",
          "shell.execute_reply": "2022-04-19T02:02:07.891342Z"
        },
        "trusted": true,
        "id": "IazgEVKYo26y"
      },
      "execution_count": null,
      "outputs": []
    },
    {
      "cell_type": "markdown",
      "source": [
        "## Data Loader"
      ],
      "metadata": {
        "id": "KAYLLgqdo26y"
      }
    },
    {
      "cell_type": "code",
      "source": [
        "class CustomerData:\n",
        "    def __init__(self,pooledfeatures,data):\n",
        "        self.pooledfeatures=pooledfeatures\n",
        "        self.data=data\n",
        "        \n",
        "    def __len__(self):\n",
        "        return len(self.data)\n",
        "    \n",
        "    def __getitem__(self,item):\n",
        "        splits = self.data['articles_string'][item].split(',')\n",
        "        article1=self.pooledfeatures.loc[self.pooledfeatures['0']==splits[0]].iloc[:,2:]\n",
        "        article2=self.pooledfeatures.loc[self.pooledfeatures['0']==splits[1]].iloc[:,2:]\n",
        "        article3=self.pooledfeatures.loc[self.pooledfeatures['0']==splits[2]].iloc[:,2:]\n",
        "        target=article3\n",
        "        return { \"transaction\": torch.tensor(np.array([article1,article2,article3]), dtype=torch.float),\n",
        "                 \"targets\":torch.tensor(np.array(target),dtype=torch.float)}"
      ],
      "metadata": {
        "id": "ac93mztNo26z"
      },
      "execution_count": null,
      "outputs": []
    },
    {
      "cell_type": "code",
      "source": [
        "dataset=CustomerData(pooledfeatures=pooledfeatures,data=latest3)\n",
        "dataloader=DataLoader(dataset,batch_size=32,shuffle=False,num_workers=2)"
      ],
      "metadata": {
        "id": "VyNzbqWBo261"
      },
      "execution_count": null,
      "outputs": []
    },
    {
      "cell_type": "markdown",
      "source": [
        "## Create Seq2Seq model"
      ],
      "metadata": {
        "id": "8e34slpbo262"
      }
    },
    {
      "cell_type": "code",
      "source": [
        "class Encoder_Decoder(nn.Module):\n",
        "    def __init__(self):\n",
        "        super().__init__()\n",
        "\n",
        "        self.encoder = nn.Sequential(nn.Linear(in_features=1280, out_features=320),\n",
        "                                     nn.LeakyReLU(),\n",
        "                                     nn.Dropout(p=0.5),\n",
        "                                     nn.Linear(in_features=320, out_features=160),\n",
        "                                     nn.LeakyReLU(),\n",
        "                                     nn.Dropout(p=0.5),\n",
        "                                     nn.Linear(in_features=160, out_features=30)\n",
        "                                   )\n",
        "        \n",
        "        self.decoder = nn.Sequential(nn.Linear(in_features=90, out_features=512),\n",
        "                                     nn.LeakyReLU(),\n",
        "                                     nn.Dropout(p=0.5),\n",
        "                                     nn.Linear(in_features=512, out_features=1024),\n",
        "                                     nn.LeakyReLU(),\n",
        "                                     nn.Dropout(p=0.5),\n",
        "                                     nn.Linear(in_features=1024, out_features=1280),\n",
        "                                     nn.Sigmoid()\n",
        "                                   )\n",
        "\n",
        "    def forward(self, x):\n",
        "        op=[]\n",
        "        for i in range(x.shape[0]):\n",
        "            op1 = torch.cat((self.encoder(x[i][0]),self.encoder(x[i][1]),self.encoder(x[i][2])),dim=1)\n",
        "            op1 = self.decoder(op1)\n",
        "            op.append(op1)\n",
        "        return torch.cat(op, dim=0)"
      ],
      "metadata": {
        "trusted": true,
        "id": "eqK5YhkEo263"
      },
      "execution_count": null,
      "outputs": []
    },
    {
      "cell_type": "code",
      "source": [
        "model= Encoder_Decoder()\n",
        "model = torch.load('Encoder_Decoder.pt')\n",
        "model.eval()\n",
        "model.to('cuda')"
      ],
      "metadata": {
        "id": "DgvZ80bRo264"
      },
      "execution_count": null,
      "outputs": []
    },
    {
      "cell_type": "markdown",
      "source": [
        "## Get outputs"
      ],
      "metadata": {
        "id": "0Qz8Ar8Do264"
      }
    },
    {
      "cell_type": "code",
      "source": [
        "outputs_user = []\n",
        "i=1\n",
        "glob_input = None\n",
        "with torch.no_grad():\n",
        "    for data in tqdm(dataloader):\n",
        "        inputs = data[\"transaction\"]\n",
        "        inputs = inputs.to('cuda', dtype=torch.float)\n",
        "        outputs = model.forward(inputs)\n",
        "        outputs = outputs.cpu().detach().numpy().tolist()\n",
        "        outputs_user.extend(outputs)"
      ],
      "metadata": {
        "id": "2zzLRK71o265"
      },
      "execution_count": null,
      "outputs": []
    },
    {
      "cell_type": "code",
      "source": [
        "pd.DataFrame(np.hstack([latest3[['customer_id',]].values, np.array(outputs_user)])).to_csv('user_features.csv',index=False)"
      ],
      "metadata": {
        "id": "PAOfAGUFo266"
      },
      "execution_count": null,
      "outputs": []
    },
    {
      "cell_type": "code",
      "source": [
        "pd.DataFrame(np.hstack([latest3[['customer_id',]].values, np.array(outputs_user)])).shape"
      ],
      "metadata": {
        "id": "_QG2jS4QDdVE"
      },
      "execution_count": null,
      "outputs": []
    },
    {
      "cell_type": "code",
      "source": [
        ""
      ],
      "metadata": {
        "id": "hI4PUDLBcfpI"
      },
      "execution_count": null,
      "outputs": []
    }
  ]
}