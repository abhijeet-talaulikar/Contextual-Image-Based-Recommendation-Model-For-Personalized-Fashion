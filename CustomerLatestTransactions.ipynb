{
 "cells": [
  {
   "cell_type": "code",
   "execution_count": null,
   "id": "ad565a6a",
   "metadata": {},
   "outputs": [],
   "source": [
    "import numpy as np\n",
    "import pandas as pd\n",
    "import matplotlib.pyplot as plt\n",
    "import seaborn as sns\n",
    "import datetime"
   ]
  },
  {
   "cell_type": "markdown",
   "id": "2124829d",
   "metadata": {},
   "source": [
    "## Load data"
   ]
  },
  {
   "cell_type": "code",
   "execution_count": null,
   "id": "5d004944",
   "metadata": {},
   "outputs": [],
   "source": [
    "article_map = pd.read_csv('article_image_mapping.csv', dtype={\n",
    "    'article_id': str, \n",
    "    'product_type_name': str, \n",
    "    'directory': str,\n",
    "    'filename': str,\n",
    "    'image_exists': bool\n",
    "})\n",
    "\n",
    "article_map = article_map[article_map.image_exists]"
   ]
  },
  {
   "cell_type": "code",
   "execution_count": null,
   "id": "8fb86310",
   "metadata": {},
   "outputs": [],
   "source": [
    "data = pd.read_csv('data/transactions_train.csv', dtype={\n",
    "    't_dat': str,\n",
    "    'customer_id': str,\n",
    "    'article_id': str,\n",
    "    'price': float,\n",
    "    'sales_channel_id': int\n",
    "})\n",
    "\n",
    "data.head()"
   ]
  },
  {
   "cell_type": "code",
   "execution_count": null,
   "id": "ca618e7f",
   "metadata": {},
   "outputs": [],
   "source": [
    "# Keep only records of products which have images\n",
    "data = pd.merge(data, article_map, how='inner', on='article_id')\n",
    "data = data[['t_dat','customer_id','article_id']]"
   ]
  },
  {
   "cell_type": "markdown",
   "id": "a6ab52a1",
   "metadata": {},
   "source": [
    "## Get number of customers"
   ]
  },
  {
   "cell_type": "code",
   "execution_count": null,
   "id": "56c32c17",
   "metadata": {},
   "outputs": [],
   "source": [
    "data.customer_id.nunique()"
   ]
  },
  {
   "cell_type": "markdown",
   "id": "692d52db",
   "metadata": {},
   "source": [
    "## Get latest 3 transactions of customers"
   ]
  },
  {
   "cell_type": "code",
   "execution_count": null,
   "id": "05247c71",
   "metadata": {},
   "outputs": [],
   "source": [
    "data['t_dat'] = pd.to_datetime(data['t_dat'])"
   ]
  },
  {
   "cell_type": "code",
   "execution_count": null,
   "id": "77c2b089",
   "metadata": {},
   "outputs": [],
   "source": [
    "data = data.sort_values('t_dat')"
   ]
  },
  {
   "cell_type": "code",
   "execution_count": null,
   "id": "198d9367",
   "metadata": {},
   "outputs": [],
   "source": [
    "data.shape"
   ]
  },
  {
   "cell_type": "code",
   "execution_count": null,
   "id": "f14ac02e",
   "metadata": {},
   "outputs": [],
   "source": [
    "latest3 = data.groupby('customer_id').tail(3).reset_index(drop=True)\n",
    "latest3.sort_values('customer_id', inplace=True)\n",
    "latest3.head()"
   ]
  },
  {
   "cell_type": "code",
   "execution_count": null,
   "id": "8e62e0a4",
   "metadata": {},
   "outputs": [],
   "source": [
    "latest3.customer_id.nunique()"
   ]
  },
  {
   "cell_type": "code",
   "execution_count": null,
   "id": "2483e2b2",
   "metadata": {},
   "outputs": [],
   "source": [
    "latest3['articles_string'] = latest3[['customer_id','article_id']].groupby(['customer_id'])['article_id'].transform(lambda x: ','.join(x))"
   ]
  },
  {
   "cell_type": "code",
   "execution_count": null,
   "id": "02b1de18",
   "metadata": {},
   "outputs": [],
   "source": [
    "latest3['commacount'] = latest3[['customer_id','article_id']].groupby(['customer_id'])['article_id'].transform(lambda x: len(x))"
   ]
  },
  {
   "cell_type": "code",
   "execution_count": null,
   "id": "fe9b4d38",
   "metadata": {},
   "outputs": [],
   "source": [
    "latest3 = latest3[latest3.commacount==3]"
   ]
  },
  {
   "cell_type": "code",
   "execution_count": null,
   "id": "ae3dbeec",
   "metadata": {},
   "outputs": [],
   "source": [
    "latest3_new = latest3[['customer_id','articles_string']].drop_duplicates()"
   ]
  },
  {
   "cell_type": "code",
   "execution_count": null,
   "id": "70ec0497",
   "metadata": {},
   "outputs": [],
   "source": [
    "latest3_new.customer_id.nunique()"
   ]
  },
  {
   "cell_type": "code",
   "execution_count": null,
   "id": "1b5f0589",
   "metadata": {},
   "outputs": [],
   "source": [
    "latest3_new.to_csv('latest3.csv',index=False)"
   ]
  },
  {
   "cell_type": "code",
   "execution_count": null,
   "id": "73ff600a",
   "metadata": {},
   "outputs": [],
   "source": []
  }
 ],
 "metadata": {
  "kernelspec": {
   "display_name": "Python 3 (ipykernel)",
   "language": "python",
   "name": "python3"
  },
  "language_info": {
   "codemirror_mode": {
    "name": "ipython",
    "version": 3
   },
   "file_extension": ".py",
   "mimetype": "text/x-python",
   "name": "python",
   "nbconvert_exporter": "python",
   "pygments_lexer": "ipython3",
   "version": "3.9.7"
  }
 },
 "nbformat": 4,
 "nbformat_minor": 5
}
