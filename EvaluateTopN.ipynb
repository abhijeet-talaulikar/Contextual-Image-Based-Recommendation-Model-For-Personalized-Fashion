{
 "cells": [
  {
   "cell_type": "code",
   "execution_count": null,
   "id": "305f631a",
   "metadata": {},
   "outputs": [],
   "source": [
    "import numpy as np\n",
    "import pandas as pd\n",
    "from sklearn.metrics.pairwise import cosine_similarity, euclidean_distances\n",
    "import datetime\n",
    "import pickle\n",
    "from sklearn.preprocessing import MinMaxScaler"
   ]
  },
  {
   "cell_type": "markdown",
   "id": "1a6d74cd",
   "metadata": {},
   "source": [
    "## Load data"
   ]
  },
  {
   "cell_type": "code",
   "execution_count": null,
   "id": "a5684994",
   "metadata": {},
   "outputs": [],
   "source": [
    "pooledfeatures = pd.read_csv('pooled_features.csv', dtype={'0':str})\n",
    "pooledfeatures.head()"
   ]
  },
  {
   "cell_type": "code",
   "execution_count": null,
   "id": "c8852267",
   "metadata": {},
   "outputs": [],
   "source": [
    "userfeatures = pd.read_csv('user_features.csv', dtype={'0':str})\n",
    "userfeatures.head()"
   ]
  },
  {
   "cell_type": "code",
   "execution_count": null,
   "id": "946b952b",
   "metadata": {},
   "outputs": [],
   "source": [
    "article_map = pd.read_csv('article_image_mapping.csv', dtype={\n",
    "    'article_id': str, \n",
    "    'product_type_name': str, \n",
    "    'directory': str,\n",
    "    'filename': str,\n",
    "    'image_exists': bool\n",
    "})\n",
    "\n",
    "article_map = article_map[article_map.image_exists]"
   ]
  },
  {
   "cell_type": "code",
   "execution_count": null,
   "id": "ac49af8d",
   "metadata": {},
   "outputs": [],
   "source": [
    "data = pd.read_csv('data/transactions_train.csv', dtype={\n",
    "    't_dat': str,\n",
    "    'customer_id': str,\n",
    "    'article_id': str,\n",
    "    'price': float,\n",
    "    'sales_channel_id': int\n",
    "})\n",
    "\n",
    "data.head()"
   ]
  },
  {
   "cell_type": "code",
   "execution_count": null,
   "id": "cc5de67c",
   "metadata": {},
   "outputs": [],
   "source": [
    "data['t_dat'] = pd.to_datetime(data['t_dat'])"
   ]
  },
  {
   "cell_type": "code",
   "execution_count": null,
   "id": "4fd97250",
   "metadata": {},
   "outputs": [],
   "source": [
    "# Keep only records of products which have images\n",
    "data = pd.merge(data, article_map, how='inner', on='article_id')\n",
    "data = data[['t_dat','customer_id','article_id']]"
   ]
  },
  {
   "cell_type": "code",
   "execution_count": null,
   "id": "da0c4f47",
   "metadata": {},
   "outputs": [],
   "source": [
    "data.sort_values('t_dat', inplace=True)"
   ]
  },
  {
   "cell_type": "code",
   "execution_count": null,
   "id": "04031b69",
   "metadata": {},
   "outputs": [],
   "source": [
    "cust_list = set(data[(data['t_dat'].dt.date > datetime.date(2020,9,20))].customer_id.unique())"
   ]
  },
  {
   "cell_type": "code",
   "execution_count": null,
   "id": "21e6f4a1",
   "metadata": {},
   "outputs": [],
   "source": [
    "scaler=MinMaxScaler()\n",
    "pooledfeatures.iloc[:,2:]=scaler.fit_transform(pooledfeatures.iloc[:,2:])"
   ]
  },
  {
   "cell_type": "code",
   "execution_count": null,
   "id": "05d2aaf4",
   "metadata": {},
   "outputs": [],
   "source": [
    "userfeatures = pd.merge(data[data.customer_id.isin(cust_list)].groupby('customer_id').tail(1).drop('t_dat',axis=1), pooledfeatures, left_on='article_id', right_on='0').drop(['article_id','0','1'], axis=1)\n",
    "userfeatures.columns = pd.Series(range(userfeatures.columns.size)).astype(str)\n",
    "userfeatures.head()"
   ]
  },
  {
   "cell_type": "code",
   "execution_count": null,
   "id": "048d2636",
   "metadata": {},
   "outputs": [],
   "source": [
    "# Keep only latest 3 months transactions\n",
    "data = data[(data['t_dat'].dt.date < datetime.date(2020,9,20))]\n",
    "data.shape"
   ]
  },
  {
   "cell_type": "code",
   "execution_count": null,
   "id": "bb17760d",
   "metadata": {},
   "outputs": [],
   "source": [
    "# Keep only latest 3 months users\n",
    "usersfeatures = userfeatures[userfeatures['0'].isin(cust_list)]\n",
    "len(cust_list)"
   ]
  },
  {
   "cell_type": "code",
   "execution_count": null,
   "id": "96bfc061",
   "metadata": {},
   "outputs": [],
   "source": [
    "pooledfeatures.drop('1',axis=1, inplace=True)"
   ]
  },
  {
   "cell_type": "code",
   "execution_count": null,
   "id": "3d7af178",
   "metadata": {},
   "outputs": [],
   "source": [
    "pooledfeatures.set_index('0', inplace=True)\n",
    "userfeatures.set_index('0', inplace=True)"
   ]
  },
  {
   "cell_type": "markdown",
   "id": "557bcebf",
   "metadata": {},
   "source": [
    "## Customer purchase hashmap"
   ]
  },
  {
   "cell_type": "code",
   "execution_count": null,
   "id": "3c30a2b2",
   "metadata": {},
   "outputs": [],
   "source": [
    "data.sort_values('customer_id', inplace=True)"
   ]
  },
  {
   "cell_type": "code",
   "execution_count": null,
   "id": "e81871b0",
   "metadata": {},
   "outputs": [],
   "source": [
    "data['purchases'] = data.groupby(['customer_id'])['article_id'].transform(lambda x: ' '.join(x))\n",
    "data = data[['customer_id','purchases']]\n",
    "data.drop_duplicates(inplace=True)\n",
    "data.shape"
   ]
  },
  {
   "cell_type": "code",
   "execution_count": null,
   "id": "ab96e8d9",
   "metadata": {},
   "outputs": [],
   "source": [
    "data['purchases'] = data.purchases.apply(lambda x: set(x.split()))\n",
    "data.head()"
   ]
  },
  {
   "cell_type": "code",
   "execution_count": null,
   "id": "230226df",
   "metadata": {},
   "outputs": [],
   "source": [
    "cust_hashmap = dict(zip(data.customer_id, data.purchases))"
   ]
  },
  {
   "cell_type": "markdown",
   "id": "f48e27b3",
   "metadata": {},
   "source": [
    "## Calculate pairwise distances"
   ]
  },
  {
   "cell_type": "code",
   "execution_count": null,
   "id": "f4811263",
   "metadata": {},
   "outputs": [],
   "source": [
    "dist_matrix = pd.DataFrame(euclidean_distances(userfeatures, pooledfeatures), columns=pooledfeatures.index, index=userfeatures.index)\n",
    "dist_matrix.shape"
   ]
  },
  {
   "cell_type": "code",
   "execution_count": null,
   "id": "04845b8c",
   "metadata": {},
   "outputs": [],
   "source": [
    "dist_matrix.sample(10)"
   ]
  },
  {
   "cell_type": "markdown",
   "id": "706ac121",
   "metadata": {},
   "source": [
    "## Example Results"
   ]
  },
  {
   "cell_type": "code",
   "execution_count": null,
   "id": "519de39b",
   "metadata": {},
   "outputs": [],
   "source": [
    "k=5\n",
    "customer_id='c02de3411b7abf30b748fc07531db4ef6973c0ec533d29bcac2f53aedb51b277'\n",
    "cols = dist_matrix.columns\n",
    "cols = cols[cols.str.startswith('080')]\n",
    "row = dist_matrix.loc[customer_id,:][cols]\n",
    "indices = np.argsort(row)\n",
    "\n",
    "# Take top k\n",
    "indices = indices[:k]\n",
    "predictions = set(cols[indices])\n",
    "predictions"
   ]
  },
  {
   "cell_type": "code",
   "execution_count": null,
   "id": "bc35856f",
   "metadata": {},
   "outputs": [],
   "source": [
    "temp = data.groupby('customer_id').tail(1).drop('t_dat',axis=1)"
   ]
  },
  {
   "cell_type": "code",
   "execution_count": null,
   "id": "38606888",
   "metadata": {},
   "outputs": [],
   "source": [
    "temp[temp.customer_id=='c02de3411b7abf30b748fc07531db4ef6973c0ec533d29bcac2f53aedb51b277'].iloc[0].article_id"
   ]
  },
  {
   "cell_type": "markdown",
   "id": "68a96a02",
   "metadata": {},
   "source": [
    "## Evaluate"
   ]
  },
  {
   "cell_type": "code",
   "execution_count": null,
   "id": "cdb40d8f",
   "metadata": {},
   "outputs": [],
   "source": [
    "def evaluate(k):\n",
    "    \n",
    "    precision = []\n",
    "    recall = []\n",
    "\n",
    "    for customer_id, purchases in cust_hashmap.items():\n",
    "        try:\n",
    "            cat = temp[temp.customer_id==customer_id].iloc[0].article_id[:3]\n",
    "            \n",
    "            # Sort distances in descending order\n",
    "            cols = dist_matrix.columns\n",
    "            cols = cols[cols.str.startswith(cat)]\n",
    "            row = dist_matrix.loc[customer_id,:][cols]\n",
    "            indices = np.argsort(row)\n",
    "\n",
    "            # Take top k\n",
    "            indices = indices[:k]\n",
    "            predictions = set(cols[indices])\n",
    "\n",
    "            tp = len(purchases.intersection(predictions))\n",
    "            fp = len(predictions.difference(purchases))\n",
    "            fn = len(purchases.difference(predictions))\n",
    "            \n",
    "            pr = tp/(tp+fp) if (tp+fp)>0 else 0\n",
    "            re = tp/(tp+fn) if (tp+fn)>0 else 0\n",
    "            \n",
    "            precision.append(pr)\n",
    "            recall.append(re)\n",
    "            \n",
    "        except:\n",
    "            pass\n",
    "    \n",
    "    print(\"Precision = \", np.mean(np.array(precision)))\n",
    "    print(\"Recall = \", np.mean(np.array(recall)))"
   ]
  },
  {
   "cell_type": "markdown",
   "id": "f71be7dd",
   "metadata": {},
   "source": [
    "## Top K=2"
   ]
  },
  {
   "cell_type": "code",
   "execution_count": null,
   "id": "0bbb6e02",
   "metadata": {},
   "outputs": [],
   "source": [
    "evaluate(2)"
   ]
  },
  {
   "cell_type": "markdown",
   "id": "5b9d67be",
   "metadata": {},
   "source": [
    "## Top K=4"
   ]
  },
  {
   "cell_type": "code",
   "execution_count": null,
   "id": "87f4f917",
   "metadata": {},
   "outputs": [],
   "source": [
    "evaluate(4)"
   ]
  },
  {
   "cell_type": "markdown",
   "id": "a9cf225c",
   "metadata": {},
   "source": [
    "## Top K=6"
   ]
  },
  {
   "cell_type": "code",
   "execution_count": null,
   "id": "36e2f7d3",
   "metadata": {},
   "outputs": [],
   "source": [
    "evaluate(6)"
   ]
  },
  {
   "cell_type": "markdown",
   "id": "03e1f76c",
   "metadata": {},
   "source": [
    "## Top K=8"
   ]
  },
  {
   "cell_type": "code",
   "execution_count": null,
   "id": "a70504ba",
   "metadata": {},
   "outputs": [],
   "source": [
    "evaluate(8)"
   ]
  },
  {
   "cell_type": "markdown",
   "id": "3f502f95",
   "metadata": {},
   "source": [
    "## Top K=10"
   ]
  },
  {
   "cell_type": "code",
   "execution_count": null,
   "id": "06398e69",
   "metadata": {},
   "outputs": [],
   "source": [
    "evaluate(10)"
   ]
  },
  {
   "cell_type": "markdown",
   "id": "4b410c58",
   "metadata": {},
   "source": [
    "## Top K=12"
   ]
  },
  {
   "cell_type": "code",
   "execution_count": null,
   "id": "be8673b7",
   "metadata": {},
   "outputs": [],
   "source": [
    "evaluate(12)"
   ]
  },
  {
   "cell_type": "markdown",
   "id": "6309fad8",
   "metadata": {},
   "source": [
    "## Top K=14"
   ]
  },
  {
   "cell_type": "code",
   "execution_count": null,
   "id": "a45d4ed7",
   "metadata": {},
   "outputs": [],
   "source": [
    "evaluate(14)"
   ]
  },
  {
   "cell_type": "markdown",
   "id": "74b76631",
   "metadata": {},
   "source": [
    "## Top K=16"
   ]
  },
  {
   "cell_type": "code",
   "execution_count": null,
   "id": "94b457e2",
   "metadata": {},
   "outputs": [],
   "source": [
    "evaluate(16)"
   ]
  },
  {
   "cell_type": "markdown",
   "id": "56ae890c",
   "metadata": {},
   "source": [
    "## Top K=18"
   ]
  },
  {
   "cell_type": "code",
   "execution_count": null,
   "id": "638631fd",
   "metadata": {},
   "outputs": [],
   "source": [
    "evaluate(18)"
   ]
  },
  {
   "cell_type": "markdown",
   "id": "35904240",
   "metadata": {},
   "source": [
    "## Top K=20"
   ]
  },
  {
   "cell_type": "code",
   "execution_count": null,
   "id": "719e788c",
   "metadata": {},
   "outputs": [],
   "source": [
    "evaluate(20)"
   ]
  },
  {
   "cell_type": "markdown",
   "id": "7694f661",
   "metadata": {},
   "source": [
    "## Top K=30"
   ]
  },
  {
   "cell_type": "code",
   "execution_count": null,
   "id": "d3e2835e",
   "metadata": {},
   "outputs": [],
   "source": [
    "evaluate(30)"
   ]
  },
  {
   "cell_type": "markdown",
   "id": "f7f64a19",
   "metadata": {},
   "source": [
    "## Top K=40"
   ]
  },
  {
   "cell_type": "code",
   "execution_count": null,
   "id": "964a97c4",
   "metadata": {},
   "outputs": [],
   "source": [
    "evaluate(40)"
   ]
  },
  {
   "cell_type": "markdown",
   "id": "f0d8e574",
   "metadata": {},
   "source": [
    "## Top K=50"
   ]
  },
  {
   "cell_type": "code",
   "execution_count": null,
   "id": "8b9b4651",
   "metadata": {},
   "outputs": [],
   "source": [
    "evaluate(50)"
   ]
  },
  {
   "cell_type": "code",
   "execution_count": null,
   "id": "1d64efb4",
   "metadata": {},
   "outputs": [],
   "source": []
  }
 ],
 "metadata": {
  "kernelspec": {
   "display_name": "Python 3 (ipykernel)",
   "language": "python",
   "name": "python3"
  },
  "language_info": {
   "codemirror_mode": {
    "name": "ipython",
    "version": 3
   },
   "file_extension": ".py",
   "mimetype": "text/x-python",
   "name": "python",
   "nbconvert_exporter": "python",
   "pygments_lexer": "ipython3",
   "version": "3.9.7"
  }
 },
 "nbformat": 4,
 "nbformat_minor": 5
}
