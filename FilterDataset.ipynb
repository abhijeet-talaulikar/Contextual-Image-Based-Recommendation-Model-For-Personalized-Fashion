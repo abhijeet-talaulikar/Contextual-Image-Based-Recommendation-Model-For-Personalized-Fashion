{
 "cells": [
  {
   "cell_type": "code",
   "execution_count": null,
   "id": "0afc97f6",
   "metadata": {},
   "outputs": [],
   "source": [
    "import numpy as np\n",
    "import pandas as pd\n",
    "import os\n",
    "import shutil\n",
    "import cv2"
   ]
  },
  {
   "cell_type": "code",
   "execution_count": null,
   "id": "e9ca6332",
   "metadata": {},
   "outputs": [],
   "source": [
    "articles = pd.read_csv('data/articles.csv',dtype=str)\n",
    "customers = pd.read_csv('data/customers.csv',dtype=str)"
   ]
  },
  {
   "cell_type": "markdown",
   "id": "2bdafb14",
   "metadata": {},
   "source": [
    "## Filter dataset\n",
    "\n",
    "Keep only products with images and from 8 selected categories."
   ]
  },
  {
   "cell_type": "code",
   "execution_count": null,
   "id": "4a853f48",
   "metadata": {},
   "outputs": [],
   "source": [
    "articles.groupby('product_type_name').size().reset_index().sort_values(0, ascending=False).head(20)"
   ]
  },
  {
   "cell_type": "code",
   "execution_count": null,
   "id": "1c72180e",
   "metadata": {},
   "outputs": [],
   "source": [
    "articles['directory'] = articles['article_id'].astype(str).str.slice(0,3)\n",
    "articles['filename'] = articles['article_id'].astype(str) + '.jpg'\n",
    "articles['image_exists'] = ('images/' + articles['directory'] + '/' + articles['filename']).apply(lambda x: os.path.isfile(x))"
   ]
  },
  {
   "cell_type": "code",
   "execution_count": null,
   "id": "7739aa29",
   "metadata": {},
   "outputs": [],
   "source": [
    "articles.groupby('product_type_name').image_exists.sum().reset_index().sort_values('image_exists', ascending=False).head(20)"
   ]
  },
  {
   "cell_type": "code",
   "execution_count": null,
   "id": "c2fc0bd7",
   "metadata": {},
   "outputs": [],
   "source": [
    "articles_subset = articles[articles.product_type_name.isin([\n",
    "    'Trousers','Dress','Sweater','T-shirt','Shorts','Shirt','Underwear bottom','Skirt'\n",
    "])].copy()"
   ]
  },
  {
   "cell_type": "code",
   "execution_count": null,
   "id": "ec5c4319",
   "metadata": {},
   "outputs": [],
   "source": [
    "articles_subset = articles_subset[['article_id','product_type_name','directory','filename','image_exists']]\n",
    "articles_subset.head(5)"
   ]
  },
  {
   "cell_type": "code",
   "execution_count": null,
   "id": "527eb123",
   "metadata": {},
   "outputs": [],
   "source": [
    "for index, row in articles_subset.iterrows():\n",
    "    src = f\"images/{row['directory']}/{row['filename']}\"\n",
    "    dst = f\"images_subset_resized/{row['filename']}\"\n",
    "    \n",
    "    if row['image_exists']:\n",
    "        img = cv2.imread(src, cv2.IMREAD_UNCHANGED)\n",
    "        resized = cv2.resize(img, (300,300), interpolation = cv2.INTER_AREA)\n",
    "        \n",
    "        #shutil.copy(src, dst)\n",
    "        cv2.imwrite(dst, resized)"
   ]
  },
  {
   "cell_type": "code",
   "execution_count": null,
   "id": "ca5610e1",
   "metadata": {},
   "outputs": [],
   "source": [
    "customers.customer_id.nunique()"
   ]
  },
  {
   "cell_type": "code",
   "execution_count": null,
   "id": "194b4381",
   "metadata": {},
   "outputs": [],
   "source": [
    "articles_subset.to_csv('article_image_mapping.csv', index=False)"
   ]
  },
  {
   "cell_type": "code",
   "execution_count": null,
   "id": "f4564bfe",
   "metadata": {},
   "outputs": [],
   "source": []
  }
 ],
 "metadata": {
  "kernelspec": {
   "display_name": "Python 3 (ipykernel)",
   "language": "python",
   "name": "python3"
  },
  "language_info": {
   "codemirror_mode": {
    "name": "ipython",
    "version": 3
   },
   "file_extension": ".py",
   "mimetype": "text/x-python",
   "name": "python",
   "nbconvert_exporter": "python",
   "pygments_lexer": "ipython3",
   "version": "3.9.7"
  }
 },
 "nbformat": 4,
 "nbformat_minor": 5
}
