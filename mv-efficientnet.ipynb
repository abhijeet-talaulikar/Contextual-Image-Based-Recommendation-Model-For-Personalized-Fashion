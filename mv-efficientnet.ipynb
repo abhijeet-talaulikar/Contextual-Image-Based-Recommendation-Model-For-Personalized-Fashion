{
 "cells": [
  {
   "cell_type": "code",
   "execution_count": null,
   "id": "51aefd49",
   "metadata": {
    "_cell_guid": "b1076dfc-b9ad-4769-8c92-a6c4dae69d19",
    "_uuid": "8f2839f25d086af736a60e9eeb907d3b93b6e0e5",
    "execution": {
     "iopub.execute_input": "2022-04-04T21:54:12.660436Z",
     "iopub.status.busy": "2022-04-04T21:54:12.658540Z",
     "iopub.status.idle": "2022-04-04T21:54:22.463638Z",
     "shell.execute_reply": "2022-04-04T21:54:22.463038Z",
     "shell.execute_reply.started": "2022-04-04T21:51:38.107251Z"
    },
    "papermill": {
     "duration": 9.833413,
     "end_time": "2022-04-04T21:54:22.463786",
     "exception": false,
     "start_time": "2022-04-04T21:54:12.630373",
     "status": "completed"
    },
    "tags": []
   },
   "outputs": [],
   "source": [
    "!pip install timm"
   ]
  },
  {
   "cell_type": "code",
   "execution_count": null,
   "id": "b1f25466",
   "metadata": {
    "execution": {
     "iopub.execute_input": "2022-04-04T21:54:22.509994Z",
     "iopub.status.busy": "2022-04-04T21:54:22.509496Z",
     "iopub.status.idle": "2022-04-04T21:54:27.208651Z",
     "shell.execute_reply": "2022-04-04T21:54:27.207930Z",
     "shell.execute_reply.started": "2022-04-04T21:51:46.450266Z"
    },
    "papermill": {
     "duration": 4.724432,
     "end_time": "2022-04-04T21:54:27.208777",
     "exception": false,
     "start_time": "2022-04-04T21:54:22.484345",
     "status": "completed"
    },
    "tags": []
   },
   "outputs": [],
   "source": [
    "import numpy as np\n",
    "import pandas as pd\n",
    "\n",
    "import torch\n",
    "import os\n",
    "\n",
    "from PIL import Image\n",
    "from PIL import ImageFile\n",
    "\n",
    "\n",
    "from sklearn import preprocessing\n",
    "from sklearn.model_selection import train_test_split\n",
    "from sklearn.metrics import f1_score,accuracy_score,recall_score, precision_score,classification_report\n",
    "\n",
    "import random\n",
    "import timm\n",
    "import torch.nn as nn\n",
    "import torch.nn.functional as F\n",
    "import albumentations\n",
    "import torchvision.transforms as transforms\n",
    "from torch.utils.data import Dataset, DataLoader\n",
    "import warnings\n",
    "warnings.filterwarnings(\"ignore\")"
   ]
  },
  {
   "cell_type": "code",
   "execution_count": null,
   "id": "7e62881d",
   "metadata": {
    "execution": {
     "iopub.execute_input": "2022-04-04T21:54:27.255633Z",
     "iopub.status.busy": "2022-04-04T21:54:27.254974Z",
     "iopub.status.idle": "2022-04-04T21:54:27.259620Z",
     "shell.execute_reply": "2022-04-04T21:54:27.259225Z",
     "shell.execute_reply.started": "2022-04-04T21:51:46.460784Z"
    },
    "papermill": {
     "duration": 0.031039,
     "end_time": "2022-04-04T21:54:27.259729",
     "exception": false,
     "start_time": "2022-04-04T21:54:27.228690",
     "status": "completed"
    },
    "tags": []
   },
   "outputs": [],
   "source": [
    "def set_seed(seed = 42):\n",
    "    '''Sets the seed of the entire notebook so results are the same every time we run.\n",
    "    This is for REPRODUCIBILITY.'''\n",
    "    np.random.seed(seed)\n",
    "    random.seed(seed)\n",
    "    torch.manual_seed(seed)\n",
    "    torch.cuda.manual_seed(seed)\n",
    "    # When running on the CuDNN backend, two further options must be set\n",
    "    torch.backends.cudnn.deterministic = True\n",
    "    torch.backends.cudnn.benchmark = True\n",
    "    # Set a fixed value for the hash seed\n",
    "    os.environ['PYTHONHASHSEED'] = str(seed)\n",
    "    \n",
    "set_seed(42)"
   ]
  },
  {
   "cell_type": "code",
   "execution_count": null,
   "id": "693d03ff",
   "metadata": {
    "execution": {
     "iopub.execute_input": "2022-04-04T21:54:27.304884Z",
     "iopub.status.busy": "2022-04-04T21:54:27.304409Z",
     "iopub.status.idle": "2022-04-04T21:55:04.174767Z",
     "shell.execute_reply": "2022-04-04T21:55:04.175188Z",
     "shell.execute_reply.started": "2022-04-04T21:51:46.474784Z"
    },
    "papermill": {
     "duration": 36.896282,
     "end_time": "2022-04-04T21:55:04.175333",
     "exception": false,
     "start_time": "2022-04-04T21:54:27.279051",
     "status": "completed"
    },
    "tags": []
   },
   "outputs": [],
   "source": [
    "articles = pd.read_csv('../input/h-and-m-personalized-fashion-recommendations/articles.csv',dtype=str)\n",
    "articles['filename'] = articles['article_id'].astype(str) + '.jpg'\n",
    "articles_subset = articles[articles.product_type_name.isin(['Trousers','Dress','Sweater','T-shirt','Shorts','Shirt','Underwear bottom','Skirt'])].copy()\n",
    "articles_subset['image_path']=\"../input/h-and-m-personalized-fashion-recommendations/images/\"+articles_subset['article_id'].astype(str).str.slice(0,3)+'/'+articles_subset['filename']\n",
    "articles_subset['image_exists'] = (articles_subset['image_path']).apply(lambda x: os.path.isfile(x))\n",
    "articles_subset = articles_subset[['article_id','product_type_name','filename','image_path','image_exists']]\n",
    "articles_subset.reset_index(inplace=True)\n",
    "articles_subset.head(5)"
   ]
  },
  {
   "cell_type": "code",
   "execution_count": null,
   "id": "e98384bc",
   "metadata": {
    "execution": {
     "iopub.execute_input": "2022-04-04T21:55:04.219255Z",
     "iopub.status.busy": "2022-04-04T21:55:04.218349Z",
     "iopub.status.idle": "2022-04-04T21:55:04.227473Z",
     "shell.execute_reply": "2022-04-04T21:55:04.227064Z",
     "shell.execute_reply.started": "2022-04-04T21:51:47.301045Z"
    },
    "papermill": {
     "duration": 0.03262,
     "end_time": "2022-04-04T21:55:04.227580",
     "exception": false,
     "start_time": "2022-04-04T21:55:04.194960",
     "status": "completed"
    },
    "tags": []
   },
   "outputs": [],
   "source": [
    "articles_subset=articles_subset[articles_subset['image_exists']==True]"
   ]
  },
  {
   "cell_type": "code",
   "execution_count": null,
   "id": "8bad9a1d",
   "metadata": {
    "execution": {
     "iopub.execute_input": "2022-04-04T21:55:04.275713Z",
     "iopub.status.busy": "2022-04-04T21:55:04.274910Z",
     "iopub.status.idle": "2022-04-04T21:55:04.276853Z",
     "shell.execute_reply": "2022-04-04T21:55:04.277275Z",
     "shell.execute_reply.started": "2022-04-04T21:51:47.307923Z"
    },
    "papermill": {
     "duration": 0.030251,
     "end_time": "2022-04-04T21:55:04.277400",
     "exception": false,
     "start_time": "2022-04-04T21:55:04.247149",
     "status": "completed"
    },
    "tags": []
   },
   "outputs": [],
   "source": [
    "class HnMadata:\n",
    "    def __init__(self,image_paths, targets, resize=None,augementations=None):\n",
    "        self.image_paths=image_paths\n",
    "        self.targets=targets\n",
    "        self.resize=resize\n",
    "        self.augmentations=augementations\n",
    "        \n",
    "    def __len__(self):\n",
    "        return len(self.image_paths)\n",
    "    \n",
    "    def __getitem__(self,item):\n",
    "        image=Image.open(self.image_paths[item])\n",
    "        image=image.convert(\"RGB\")\n",
    "        targets=self.targets[item]\n",
    "        \n",
    "        if self.resize is not None:\n",
    "            image= image.resize((self.resize[1],self.resize[0]),resample=Image.BILINEAR)\n",
    "        image=np.array(image)\n",
    "        \n",
    "        if self.augmentations is not None:\n",
    "            augmented=self.augmentations(image=image)\n",
    "            image=augmented['image']\n",
    "        image= np.transpose (image, (2,0,1)).astype(np.float32)\n",
    "        \n",
    "        return { \"image\": torch.tensor(image, dtype=torch.float),\n",
    "                 \"targets\":torch.tensor(targets,dtype=torch.long),}"
   ]
  },
  {
   "cell_type": "code",
   "execution_count": null,
   "id": "cea9e9d2",
   "metadata": {
    "execution": {
     "iopub.execute_input": "2022-04-04T21:55:04.334259Z",
     "iopub.status.busy": "2022-04-04T21:55:04.333493Z",
     "iopub.status.idle": "2022-04-04T21:55:04.361468Z",
     "shell.execute_reply": "2022-04-04T21:55:04.361057Z",
     "shell.execute_reply.started": "2022-04-04T21:51:47.321880Z"
    },
    "papermill": {
     "duration": 0.064667,
     "end_time": "2022-04-04T21:55:04.361573",
     "exception": false,
     "start_time": "2022-04-04T21:55:04.296906",
     "status": "completed"
    },
    "tags": []
   },
   "outputs": [],
   "source": [
    "le = preprocessing.LabelEncoder()\n",
    "articles_subset['labels']= le.fit_transform(articles_subset['product_type_name'])\n",
    "X_train, X_test, y_train, y_test = train_test_split(articles_subset['image_path'],articles_subset['labels'], stratify=articles_subset['labels'], random_state=42)\n"
   ]
  },
  {
   "cell_type": "code",
   "execution_count": null,
   "id": "f6777e18",
   "metadata": {
    "execution": {
     "iopub.execute_input": "2022-04-04T21:55:04.406676Z",
     "iopub.status.busy": "2022-04-04T21:55:04.406031Z",
     "iopub.status.idle": "2022-04-04T21:55:04.408557Z",
     "shell.execute_reply": "2022-04-04T21:55:04.409049Z",
     "shell.execute_reply.started": "2022-04-04T21:51:47.337133Z"
    },
    "papermill": {
     "duration": 0.027897,
     "end_time": "2022-04-04T21:55:04.409181",
     "exception": false,
     "start_time": "2022-04-04T21:55:04.381284",
     "status": "completed"
    },
    "tags": []
   },
   "outputs": [],
   "source": [
    "X_train.reset_index(drop=True,inplace=True),y_train.reset_index(drop=True,inplace=True)\n",
    "X_test.reset_index(drop=True,inplace=True),y_test.reset_index(drop=True,inplace=True)"
   ]
  },
  {
   "cell_type": "code",
   "execution_count": null,
   "id": "f98206c0",
   "metadata": {
    "execution": {
     "iopub.execute_input": "2022-04-04T21:55:04.454740Z",
     "iopub.status.busy": "2022-04-04T21:55:04.453932Z",
     "iopub.status.idle": "2022-04-04T21:55:04.455706Z",
     "shell.execute_reply": "2022-04-04T21:55:04.456108Z",
     "shell.execute_reply.started": "2022-04-04T21:51:47.350725Z"
    },
    "papermill": {
     "duration": 0.027224,
     "end_time": "2022-04-04T21:55:04.456229",
     "exception": false,
     "start_time": "2022-04-04T21:55:04.429005",
     "status": "completed"
    },
    "tags": []
   },
   "outputs": [],
   "source": [
    "mean = (0.485, 0.456, 0.406)\n",
    "std = (0.229, 0.224, 0.225)\n",
    "train_aug = albumentations.Compose(\n",
    "        [\n",
    "            albumentations.Normalize(mean, std, max_pixel_value=255.0, always_apply=True),\n",
    "            albumentations.ShiftScaleRotate(shift_limit=0.0625, scale_limit=0.1, rotate_limit=15),\n",
    "            albumentations.Flip(p=0.5)\n",
    "        ]\n",
    "    )\n",
    "\n",
    "valid_aug = albumentations.Compose(\n",
    "        [\n",
    "            albumentations.Normalize(mean, std, max_pixel_value=255.0, always_apply=True)\n",
    "        ]\n",
    "    )"
   ]
  },
  {
   "cell_type": "code",
   "execution_count": null,
   "id": "a45357d4",
   "metadata": {
    "execution": {
     "iopub.execute_input": "2022-04-04T21:55:04.502172Z",
     "iopub.status.busy": "2022-04-04T21:55:04.501458Z",
     "iopub.status.idle": "2022-04-04T21:55:04.503378Z",
     "shell.execute_reply": "2022-04-04T21:55:04.503768Z",
     "shell.execute_reply.started": "2022-04-04T21:51:47.362555Z"
    },
    "papermill": {
     "duration": 0.027754,
     "end_time": "2022-04-04T21:55:04.503878",
     "exception": false,
     "start_time": "2022-04-04T21:55:04.476124",
     "status": "completed"
    },
    "tags": []
   },
   "outputs": [],
   "source": [
    "trainset=HnMadata(image_paths=X_train,targets=y_train,resize=(227,227),augementations=train_aug)\n",
    "trainloader=DataLoader(trainset,batch_size=32,shuffle=True,num_workers=2)"
   ]
  },
  {
   "cell_type": "code",
   "execution_count": null,
   "id": "7f5fa83c",
   "metadata": {
    "execution": {
     "iopub.execute_input": "2022-04-04T21:55:04.548091Z",
     "iopub.status.busy": "2022-04-04T21:55:04.547384Z",
     "iopub.status.idle": "2022-04-04T21:55:04.549246Z",
     "shell.execute_reply": "2022-04-04T21:55:04.549612Z",
     "shell.execute_reply.started": "2022-04-04T21:51:47.370728Z"
    },
    "papermill": {
     "duration": 0.0259,
     "end_time": "2022-04-04T21:55:04.549726",
     "exception": false,
     "start_time": "2022-04-04T21:55:04.523826",
     "status": "completed"
    },
    "tags": []
   },
   "outputs": [],
   "source": [
    "valset=HnMadata(image_paths=X_test,targets=y_test,resize=(227,227),augementations=valid_aug)\n",
    "valloader=DataLoader(valset,batch_size=32,shuffle=False,num_workers=2)"
   ]
  },
  {
   "cell_type": "code",
   "execution_count": null,
   "id": "bc786e11",
   "metadata": {
    "execution": {
     "iopub.execute_input": "2022-04-04T21:55:04.593400Z",
     "iopub.status.busy": "2022-04-04T21:55:04.592414Z",
     "iopub.status.idle": "2022-04-04T21:55:04.599251Z",
     "shell.execute_reply": "2022-04-04T21:55:04.598806Z",
     "shell.execute_reply.started": "2022-04-04T21:53:04.578476Z"
    },
    "papermill": {
     "duration": 0.029071,
     "end_time": "2022-04-04T21:55:04.599354",
     "exception": false,
     "start_time": "2022-04-04T21:55:04.570283",
     "status": "completed"
    },
    "tags": []
   },
   "outputs": [],
   "source": [
    "class Efficientnet(nn.Module):\n",
    "    def __init__(self, model_name, pretrained=True):\n",
    "        super().__init__()\n",
    "        self.model = timm.create_model(model_name, pretrained=pretrained)\n",
    "        n_features = self.model.classifier.in_features\n",
    "        self.model.fc = nn.Sequential(nn.Linear(in_features=n_features, out_features=256),\n",
    "                                      nn.ReLU(),\n",
    "                                      nn.BatchNorm1d(256, eps=1e-05, momentum=0.1),\n",
    "                                      nn.Dropout(p=0.5),\n",
    "                                      nn.Linear(in_features=256, out_features=8)\n",
    "                                    )\n",
    "\n",
    "    def forward(self, x):\n",
    "        x = self.model(x)\n",
    "        return x"
   ]
  },
  {
   "cell_type": "code",
   "execution_count": null,
   "id": "1b51a4cb",
   "metadata": {
    "execution": {
     "iopub.execute_input": "2022-04-04T21:55:04.645988Z",
     "iopub.status.busy": "2022-04-04T21:55:04.645436Z",
     "iopub.status.idle": "2022-04-04T21:55:06.558659Z",
     "shell.execute_reply": "2022-04-04T21:55:06.558184Z",
     "shell.execute_reply.started": "2022-04-04T21:53:05.346219Z"
    },
    "papermill": {
     "duration": 1.939364,
     "end_time": "2022-04-04T21:55:06.558801",
     "exception": false,
     "start_time": "2022-04-04T21:55:04.619437",
     "status": "completed"
    },
    "tags": []
   },
   "outputs": [],
   "source": [
    "from tqdm import tqdm\n",
    "model= Efficientnet(model_name='tf_efficientnet_b0',pretrained=True)\n",
    "optimizer=torch.optim.Adam(model.parameters(),lr=0.005)\n",
    "criterion = nn.CrossEntropyLoss()"
   ]
  },
  {
   "cell_type": "code",
   "execution_count": null,
   "id": "5cfdaef2",
   "metadata": {
    "execution": {
     "iopub.execute_input": "2022-04-04T21:55:06.607082Z",
     "iopub.status.busy": "2022-04-04T21:55:06.606379Z",
     "iopub.status.idle": "2022-04-04T21:55:06.610724Z",
     "shell.execute_reply": "2022-04-04T21:55:06.611177Z",
     "shell.execute_reply.started": "2022-04-04T21:53:06.032564Z"
    },
    "papermill": {
     "duration": 0.031356,
     "end_time": "2022-04-04T21:55:06.611318",
     "exception": false,
     "start_time": "2022-04-04T21:55:06.579962",
     "status": "completed"
    },
    "tags": []
   },
   "outputs": [],
   "source": [
    "print(model)"
   ]
  },
  {
   "cell_type": "code",
   "execution_count": null,
   "id": "2105610e",
   "metadata": {
    "execution": {
     "iopub.execute_input": "2022-04-04T21:55:06.660473Z",
     "iopub.status.busy": "2022-04-04T21:55:06.659816Z",
     "iopub.status.idle": "2022-04-04T21:55:06.662416Z",
     "shell.execute_reply": "2022-04-04T21:55:06.661986Z",
     "shell.execute_reply.started": "2022-04-04T21:53:14.078384Z"
    },
    "papermill": {
     "duration": 0.029534,
     "end_time": "2022-04-04T21:55:06.662522",
     "exception": false,
     "start_time": "2022-04-04T21:55:06.632988",
     "status": "completed"
    },
    "tags": []
   },
   "outputs": [],
   "source": [
    "def train(data_loader, model, optimizer, device):\n",
    "    model.train()\n",
    "    running_loss=0\n",
    "    for data in tqdm(data_loader):\n",
    "        inputs = data[\"image\"]\n",
    "        targets = data[\"targets\"]\n",
    "        inputs = inputs.to(device, dtype=torch.float)\n",
    "        targets = targets.to(device, dtype=torch.long)\n",
    "        optimizer.zero_grad()\n",
    "        outputs = model(inputs)\n",
    "        loss = criterion(outputs, targets)\n",
    "        loss.backward()\n",
    "        optimizer.step()\n",
    "        \n",
    "        running_loss += loss.item()\n",
    "    epoch_loss = running_loss/len(data_loader)\n",
    "    print('Train Loss: {:.4f}'.format(epoch_loss))"
   ]
  },
  {
   "cell_type": "code",
   "execution_count": null,
   "id": "6a9164ad",
   "metadata": {
    "execution": {
     "iopub.execute_input": "2022-04-04T21:55:06.712977Z",
     "iopub.status.busy": "2022-04-04T21:55:06.712211Z",
     "iopub.status.idle": "2022-04-04T21:55:06.714618Z",
     "shell.execute_reply": "2022-04-04T21:55:06.714201Z",
     "shell.execute_reply.started": "2022-04-04T21:53:14.399622Z"
    },
    "papermill": {
     "duration": 0.030912,
     "end_time": "2022-04-04T21:55:06.714716",
     "exception": false,
     "start_time": "2022-04-04T21:55:06.683804",
     "status": "completed"
    },
    "tags": []
   },
   "outputs": [],
   "source": [
    "def evaluate(data_loader, model, device):\n",
    "    model.eval()\n",
    "    \n",
    "    final_targets = []\n",
    "    final_outputs = []\n",
    "    \n",
    "    running_loss=0\n",
    "    with torch.no_grad():\n",
    "        for data in data_loader:\n",
    "            inputs = data[\"image\"]\n",
    "            targets = data[\"targets\"]\n",
    "            inputs = inputs.to(device, dtype=torch.float)\n",
    "            targets = targets.to(device, dtype=torch.long)\n",
    "            output = model(inputs)\n",
    "            loss = criterion(output, targets)\n",
    "            preds = F.softmax(output).argmax(axis=1)\n",
    "            targets = targets.detach().cpu().numpy().tolist()\n",
    "            outputs = preds.detach().cpu().numpy().tolist()\n",
    "            final_targets.extend(targets)\n",
    "            final_outputs.extend(outputs)\n",
    "            running_loss += loss.item()\n",
    "            \n",
    "    epoch_loss = running_loss/len(data_loader)\n",
    "    print('Valid Loss: {:.4f}'.format(epoch_loss))       \n",
    "    return final_outputs, final_targets"
   ]
  },
  {
   "cell_type": "code",
   "execution_count": null,
   "id": "65b6839b",
   "metadata": {
    "execution": {
     "iopub.execute_input": "2022-04-04T21:55:06.759785Z",
     "iopub.status.busy": "2022-04-04T21:55:06.758998Z",
     "iopub.status.idle": "2022-04-05T03:13:23.545480Z",
     "shell.execute_reply": "2022-04-05T03:13:23.546413Z",
     "shell.execute_reply.started": "2022-04-04T21:53:14.956033Z"
    },
    "papermill": {
     "duration": 19096.810585,
     "end_time": "2022-04-05T03:13:23.546589",
     "exception": false,
     "start_time": "2022-04-04T21:55:06.736004",
     "status": "completed"
    },
    "tags": []
   },
   "outputs": [],
   "source": [
    "device='cuda'\n",
    "model.to(device)\n",
    "epochs=10\n",
    "for epoch in range(epochs):\n",
    "    print('Epoch {}/{}'.format(epoch,epochs))\n",
    "    print('-' * 100)\n",
    "    train(trainloader,model,optimizer,device=device)\n",
    "    print('-' * 100)\n",
    "    predictions, valid_targets=evaluate(valloader,model,device=device)\n",
    "    acc=accuracy_score(valid_targets,predictions)\n",
    "    f1=f1_score(valid_targets,predictions,average='macro')\n",
    "    recall=recall_score(valid_targets,predictions,average='weighted')\n",
    "    precision=precision_score(valid_targets,predictions,average='weighted')\n",
    "    print('Accuracy : {:.4f}'.format(acc*100))\n",
    "    print('Precision : {:.4f}'.format(precision*100))\n",
    "    print('Recall : {:.4f}'.format(recall*100))\n",
    "    print('F1-score : {:.4f}'.format(f1*100))\n",
    "    print(classification_report(valid_targets,predictions))\n",
    "    print('-' * 100)\n",
    "    "
   ]
  },
  {
   "cell_type": "code",
   "execution_count": null,
   "id": "7ae3740c",
   "metadata": {
    "execution": {
     "iopub.execute_input": "2022-04-05T03:13:31.875791Z",
     "iopub.status.busy": "2022-04-05T03:13:31.850557Z",
     "iopub.status.idle": "2022-04-05T03:13:31.957825Z",
     "shell.execute_reply": "2022-04-05T03:13:31.958408Z",
     "shell.execute_reply.started": "2022-04-04T21:52:30.640505Z"
    },
    "papermill": {
     "duration": 4.363346,
     "end_time": "2022-04-05T03:13:31.958611",
     "exception": false,
     "start_time": "2022-04-05T03:13:27.595265",
     "status": "completed"
    },
    "tags": []
   },
   "outputs": [],
   "source": [
    "torch.save(model,\"./Efficientnetb0.pt\")"
   ]
  },
  {
   "cell_type": "code",
   "execution_count": null,
   "id": "99490a18",
   "metadata": {
    "papermill": {
     "duration": 4.083546,
     "end_time": "2022-04-05T03:13:39.759960",
     "exception": false,
     "start_time": "2022-04-05T03:13:35.676414",
     "status": "completed"
    },
    "tags": []
   },
   "outputs": [],
   "source": []
  }
 ],
 "metadata": {
  "kernelspec": {
   "display_name": "Python 3 (ipykernel)",
   "language": "python",
   "name": "python3"
  },
  "language_info": {
   "codemirror_mode": {
    "name": "ipython",
    "version": 3
   },
   "file_extension": ".py",
   "mimetype": "text/x-python",
   "name": "python",
   "nbconvert_exporter": "python",
   "pygments_lexer": "ipython3",
   "version": "3.9.7"
  },
  "papermill": {
   "default_parameters": {},
   "duration": 19182.604641,
   "end_time": "2022-04-05T03:13:46.890530",
   "environment_variables": {},
   "exception": null,
   "input_path": "__notebook__.ipynb",
   "output_path": "__notebook__.ipynb",
   "parameters": {},
   "start_time": "2022-04-04T21:54:04.285889",
   "version": "2.3.3"
  }
 },
 "nbformat": 4,
 "nbformat_minor": 5
}
